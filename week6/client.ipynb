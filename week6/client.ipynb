{
 "cells": [
  {
   "cell_type": "code",
   "execution_count": 7,
   "metadata": {},
   "outputs": [
    {
     "name": "stdout",
     "output_type": "stream",
     "text": [
      "{'bootstrap.servers': 'pkc-lzoyy.europe-west6.gcp.confluent.cloud:9092', 'security.protocol': 'SASL_SSL', 'sasl.mechanisms': 'PLAIN', 'sasl.username': 'BAXV5PCQTFO7H6X2', 'sasl.password': '7Hf9PLpSb8m4jzpQ9zUDTiobDeALxeM/aOv0zb0tVcmRx23dVvCsLT+kULJRIZu+', 'session.timeout.ms': '45000', 'schema.registry.url': 'https://{{ SR_ENDPOINT }}', 'basic.auth.credentials.source': 'USER_INFO', 'basic.auth.user.info': '{{ SR_API_KEY }}:{{ SR_API_SECRET }}'}\n"
     ]
    }
   ],
   "source": [
    "import pathlib\n",
    "\n",
    "def read_ccloud_config(config_file):\n",
    "    conf = {}\n",
    "    with open(config_file) as fh:\n",
    "        for line in fh:\n",
    "            line = line.strip()\n",
    "            if len(line) != 0 and line[0] != \"#\":\n",
    "                parameter, value = line.strip().split('=', 1)\n",
    "                conf[parameter] = value.strip()\n",
    "    return conf\n",
    "\n",
    "print(read_ccloud_config(pathlib.Path().absolute() / \"client.properties\"))"
   ]
  },
  {
   "cell_type": "code",
   "execution_count": 6,
   "metadata": {},
   "outputs": [
    {
     "ename": "KafkaException",
     "evalue": "KafkaError{code=_INVALID_ARG,val=-186,str=\"No such configuration property: \"schema.registry.url\"\"}",
     "output_type": "error",
     "traceback": [
      "\u001b[0;31m---------------------------------------------------------------------------\u001b[0m",
      "\u001b[0;31mKafkaException\u001b[0m                            Traceback (most recent call last)",
      "Cell \u001b[0;32mIn[6], line 2\u001b[0m\n\u001b[1;32m      1\u001b[0m \u001b[39mfrom\u001b[39;00m \u001b[39mconfluent_kafka\u001b[39;00m \u001b[39mimport\u001b[39;00m Producer\n\u001b[0;32m----> 2\u001b[0m producer \u001b[39m=\u001b[39m Producer(read_ccloud_config(pathlib\u001b[39m.\u001b[39;49mPath()\u001b[39m.\u001b[39;49mabsolute() \u001b[39m/\u001b[39;49m \u001b[39m\"\u001b[39;49m\u001b[39mclient.properties\u001b[39;49m\u001b[39m\"\u001b[39;49m))\n\u001b[1;32m      3\u001b[0m producer\u001b[39m.\u001b[39mproduce(\u001b[39m\"\u001b[39m\u001b[39mmy-topic\u001b[39m\u001b[39m\"\u001b[39m, key\u001b[39m=\u001b[39m\u001b[39m\"\u001b[39m\u001b[39mkey\u001b[39m\u001b[39m\"\u001b[39m, value\u001b[39m=\u001b[39m\u001b[39m\"\u001b[39m\u001b[39mvalue\u001b[39m\u001b[39m\"\u001b[39m)\n",
      "\u001b[0;31mKafkaException\u001b[0m: KafkaError{code=_INVALID_ARG,val=-186,str=\"No such configuration property: \"schema.registry.url\"\"}"
     ]
    }
   ],
   "source": [
    "from confluent_kafka import Producer\n",
    "producer = Producer(read_ccloud_config(pathlib.Path().absolute() / \"client.properties\"))\n",
    "producer.produce(\"my-topic\", key=\"key\", value=\"value\")"
   ]
  },
  {
   "cell_type": "code",
   "execution_count": null,
   "metadata": {},
   "outputs": [],
   "source": []
  }
 ],
 "metadata": {
  "kernelspec": {
   "display_name": "kafka",
   "language": "python",
   "name": "python3"
  },
  "language_info": {
   "codemirror_mode": {
    "name": "ipython",
    "version": 3
   },
   "file_extension": ".py",
   "mimetype": "text/x-python",
   "name": "python",
   "nbconvert_exporter": "python",
   "pygments_lexer": "ipython3",
   "version": "3.9.16"
  },
  "orig_nbformat": 4
 },
 "nbformat": 4,
 "nbformat_minor": 2
}
