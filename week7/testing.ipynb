{
 "cells": [
  {
   "cell_type": "code",
   "execution_count": 4,
   "metadata": {},
   "outputs": [],
   "source": [
    "import re\n",
    "from time import sleep\n",
    "import itertools\n",
    "import requests\n",
    "from pathlib import Path\n",
    "from bs4 import BeautifulSoup\n",
    "\n",
    "URLS = {\n",
    "    \"hist_data\":\"https://opendata.dwd.de/climate_environment/CDC/observations_germany/climate/daily/kl/historical/\",\n",
    "    \"recent_data\":\"https://opendata.dwd.de/climate_environment/CDC/observations_germany/climate/daily/kl/recent/\",\n",
    "}\n",
    "\n",
    "for category, url in URLS.items():\n",
    "    page = requests.get(url)\n",
    "    soup = BeautifulSoup(page.content, \"html.parser\")\n",
    "    \n",
    "   \n",
    "    links = soup.find_all(\"a\", href = re.compile(\".pdf$|.txt$|.zip$\"))\n",
    "\n",
    "    for link in links:\n",
    "        path = Path(\"./data/\") / category \n",
    "        path.mkdir(parents=True, exist_ok=True)\n",
    "        file_path = path / link[\"href\"]\n",
    "        mode = \"w+b\" if \"pdf\" or \"zip\" in link[\"href\"] else \"w+\"\n",
    "        file_url = url + link[\"href\"]\n",
    "        if not file_path.is_file():\n",
    "            with requests.get(file_url) as r:\n",
    "                with open(str(file_path), mode) as f:\n",
    "                    f.write(r.content)\n",
    "                    sleep(0.5)\n",
    "\n",
    "            "
   ]
  },
  {
   "cell_type": "code",
   "execution_count": 59,
   "metadata": {},
   "outputs": [
    {
     "name": "stdout",
     "output_type": "stream",
     "text": [
      "[<a href=\"BESCHREIBUNG_obsgermany_climate_daily_kl_recent_de.pdf\">BESCHREIBUNG_obsgermany_climate_daily_kl_recent..&gt;</a>, <a href=\"DESCRIPTION_obsgermany_climate_daily_kl_recent_en.pdf\">DESCRIPTION_obsgermany_climate_daily_kl_recent_..&gt;</a>]\n"
     ]
    }
   ],
   "source": [
    "from zipfile import ZipFile\n",
    "\n",
    "with ZipFile('./data/recent_data/tageswerte_KL_00011_akt.zip', 'r') as zip:\n",
    "    zip.printdir()\n"
   ]
  },
  {
   "cell_type": "code",
   "execution_count": 88,
   "metadata": {},
   "outputs": [],
   "source": [
    "\n"
   ]
  }
 ],
 "metadata": {
  "kernelspec": {
   "display_name": "week7--DKIWNv2-py3.10",
   "language": "python",
   "name": "python3"
  },
  "language_info": {
   "codemirror_mode": {
    "name": "ipython",
    "version": 3
   },
   "file_extension": ".py",
   "mimetype": "text/x-python",
   "name": "python",
   "nbconvert_exporter": "python",
   "pygments_lexer": "ipython3",
   "version": "3.10.10"
  },
  "orig_nbformat": 4
 },
 "nbformat": 4,
 "nbformat_minor": 2
}
